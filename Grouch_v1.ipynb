{
 "cells": [
  {
   "cell_type": "code",
   "execution_count": 1,
   "metadata": {
    "ExecuteTime": {
     "end_time": "2021-05-02T13:12:01.750659Z",
     "start_time": "2021-05-02T13:11:53.199267Z"
    }
   },
   "outputs": [],
   "source": [
    "import numpy as np\n",
    "import pandas as pd\n",
    "import tensorflow as tf\n",
    "from PIL import Image\n",
    "from matplotlib import pyplot as plt\n",
    "from tensorflow.python.util import compat\n",
    "from tensorflow.core.protobuf import saved_model_pb2\n",
    "from google.protobuf import text_format\n",
    "import pprint\n",
    "import json\n",
    "import os"
   ]
  },
  {
   "cell_type": "code",
   "execution_count": 11,
   "metadata": {
    "ExecuteTime": {
     "end_time": "2021-05-02T14:17:57.949618Z",
     "start_time": "2021-05-02T14:06:21.050451Z"
    }
   },
   "outputs": [
    {
     "name": "stderr",
     "output_type": "stream",
     "text": [
      "Cloning into 'models'...\n",
      "Updating files:  68% (1638/2407)\n",
      "Updating files:  69% (1661/2407)\n",
      "Updating files:  70% (1685/2407)\n",
      "Updating files:  71% (1709/2407)\n",
      "Updating files:  72% (1734/2407)\n",
      "Updating files:  73% (1758/2407)\n",
      "Updating files:  74% (1782/2407)\n",
      "Updating files:  75% (1806/2407)\n",
      "Updating files:  76% (1830/2407)\n",
      "Updating files:  77% (1854/2407)\n",
      "Updating files:  78% (1878/2407)\n",
      "Updating files:  79% (1902/2407)\n",
      "Updating files:  80% (1926/2407)\n",
      "Updating files:  81% (1950/2407)\n",
      "Updating files:  82% (1974/2407)\n",
      "Updating files:  83% (1998/2407)\n",
      "Updating files:  84% (2022/2407)\n",
      "Updating files:  85% (2046/2407)\n",
      "Updating files:  86% (2071/2407)\n",
      "Updating files:  87% (2095/2407)\n",
      "Updating files:  88% (2119/2407)\n",
      "Updating files:  89% (2143/2407)\n",
      "Updating files:  90% (2167/2407)\n",
      "Updating files:  91% (2191/2407)\n",
      "Updating files:  92% (2215/2407)\n",
      "Updating files:  93% (2239/2407)\n",
      "Updating files:  94% (2263/2407)\n",
      "Updating files:  95% (2287/2407)\n",
      "Updating files:  96% (2311/2407)\n",
      "Updating files:  97% (2335/2407)\n",
      "Updating files:  98% (2359/2407)\n",
      "Updating files:  99% (2383/2407)\n",
      "Updating files: 100% (2407/2407)\n",
      "Updating files: 100% (2407/2407), done.\n",
      "'sed'은(는) 내부 또는 외부 명령, 실행할 수 있는 프로그램, 또는\n",
      "배치 파일이 아닙니다.\n"
     ]
    }
   ],
   "source": [
    "! git clone https://github.com/tensorflow/models.git \\"
   ]
  },
  {
   "cell_type": "code",
   "execution_count": 4,
   "metadata": {
    "ExecuteTime": {
     "end_time": "2021-05-06T12:46:37.799046Z",
     "start_time": "2021-05-06T12:46:37.694188Z"
    }
   },
   "outputs": [
    {
     "name": "stdout",
     "output_type": "stream",
     "text": [
      "명령 구문이 올바르지 않습니다.\n"
     ]
    }
   ],
   "source": [
    "! cd models/research && protoc object_detection/protos/*.proto --python_out=. && copy object_detection/packages/tf2/setup.py . && python3 -m pip install --use-feature=2020-resolver ."
   ]
  },
  {
   "cell_type": "code",
   "execution_count": null,
   "metadata": {},
   "outputs": [],
   "source": []
  }
 ],
 "metadata": {
  "hide_input": false,
  "kernelspec": {
   "display_name": "Python 3",
   "language": "python",
   "name": "python3"
  },
  "language_info": {
   "codemirror_mode": {
    "name": "ipython",
    "version": 3
   },
   "file_extension": ".py",
   "mimetype": "text/x-python",
   "name": "python",
   "nbconvert_exporter": "python",
   "pygments_lexer": "ipython3",
   "version": "3.6.10"
  },
  "toc": {
   "base_numbering": 1,
   "nav_menu": {},
   "number_sections": true,
   "sideBar": true,
   "skip_h1_title": false,
   "title_cell": "Table of Contents",
   "title_sidebar": "Contents",
   "toc_cell": false,
   "toc_position": {},
   "toc_section_display": true,
   "toc_window_display": false
  },
  "varInspector": {
   "cols": {
    "lenName": 16,
    "lenType": 16,
    "lenVar": 40
   },
   "kernels_config": {
    "python": {
     "delete_cmd_postfix": "",
     "delete_cmd_prefix": "del ",
     "library": "var_list.py",
     "varRefreshCmd": "print(var_dic_list())"
    },
    "r": {
     "delete_cmd_postfix": ") ",
     "delete_cmd_prefix": "rm(",
     "library": "var_list.r",
     "varRefreshCmd": "cat(var_dic_list()) "
    }
   },
   "types_to_exclude": [
    "module",
    "function",
    "builtin_function_or_method",
    "instance",
    "_Feature"
   ],
   "window_display": false
  }
 },
 "nbformat": 4,
 "nbformat_minor": 4
}
