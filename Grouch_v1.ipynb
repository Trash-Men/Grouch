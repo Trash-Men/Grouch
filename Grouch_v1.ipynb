{
 "cells": [
  {
   "cell_type": "markdown",
   "metadata": {},
   "source": [
    "### Import libraries"
   ]
  },
  {
   "cell_type": "code",
   "execution_count": 1,
   "metadata": {
    "ExecuteTime": {
     "end_time": "2021-05-11T03:00:36.358737Z",
     "start_time": "2021-05-11T03:00:36.348707Z"
    }
   },
   "outputs": [],
   "source": [
    "import os\n",
    "os.environ['TF_CPP_MIN_LOG_LEVEL'] = \"3\""
   ]
  },
  {
   "cell_type": "code",
   "execution_count": 2,
   "metadata": {
    "ExecuteTime": {
     "end_time": "2021-05-11T03:03:55.301711Z",
     "start_time": "2021-05-11T03:03:47.041368Z"
    }
   },
   "outputs": [],
   "source": [
    "import re\n",
    "import json\n",
    "import shutil\n",
    "import pprint\n",
    "import random\n",
    "import subprocess\n",
    "import numpy as np\n",
    "import tensorflow as tf\n",
    "import matplotlib.pyplot as plt\n",
    "\n",
    "from pathlib import Path\n",
    "from google.protobuf import text_format\n",
    "\n",
    "%matplotlib inline"
   ]
  },
  {
   "cell_type": "code",
   "execution_count": 3,
   "metadata": {
    "ExecuteTime": {
     "end_time": "2021-05-11T03:04:19.215501Z",
     "start_time": "2021-05-11T03:04:19.209500Z"
    }
   },
   "outputs": [
    {
     "name": "stdout",
     "output_type": "stream",
     "text": [
      "TF version: 2.3.0\n"
     ]
    }
   ],
   "source": [
    "print(\"TF version: %s\" % tf.__version__)"
   ]
  },
  {
   "cell_type": "code",
   "execution_count": 5,
   "metadata": {
    "ExecuteTime": {
     "end_time": "2021-05-11T04:56:36.631473Z",
     "start_time": "2021-05-11T04:56:02.166711Z"
    },
    "code_folding": [
     0
    ],
    "collapsed": true
   },
   "outputs": [
    {
     "name": "stderr",
     "output_type": "stream",
     "text": [
      "Cloning into 'models'...\n",
      "Updating files:  67% (1726/2554)\n",
      "Updating files:  68% (1737/2554)\n",
      "Updating files:  69% (1763/2554)\n",
      "Updating files:  70% (1788/2554)\n",
      "Updating files:  71% (1814/2554)\n",
      "Updating files:  72% (1839/2554)\n",
      "Updating files:  73% (1865/2554)\n",
      "Updating files:  74% (1890/2554)\n",
      "Updating files:  75% (1916/2554)\n",
      "Updating files:  76% (1942/2554)\n",
      "Updating files:  77% (1967/2554)\n",
      "Updating files:  78% (1993/2554)\n",
      "Updating files:  79% (2018/2554)\n",
      "Updating files:  80% (2044/2554)\n",
      "Updating files:  81% (2069/2554)\n",
      "Updating files:  82% (2095/2554)\n",
      "Updating files:  83% (2120/2554)\n",
      "Updating files:  84% (2146/2554)\n",
      "Updating files:  85% (2171/2554)\n",
      "Updating files:  86% (2197/2554)\n",
      "Updating files:  87% (2222/2554)\n",
      "Updating files:  88% (2248/2554)\n",
      "Updating files:  89% (2274/2554)\n",
      "Updating files:  90% (2299/2554)\n",
      "Updating files:  91% (2325/2554)\n",
      "Updating files:  92% (2350/2554)\n",
      "Updating files:  93% (2376/2554)\n",
      "Updating files:  94% (2401/2554)\n",
      "Updating files:  95% (2427/2554)\n",
      "Updating files:  96% (2452/2554)\n",
      "Updating files:  97% (2478/2554)\n",
      "Updating files:  98% (2503/2554)\n",
      "Updating files:  99% (2529/2554)\n",
      "Updating files: 100% (2554/2554)\n",
      "Updating files: 100% (2554/2554), done.\n"
     ]
    }
   ],
   "source": [
    "# need to install Tensorflow's object_detection library\n",
    "!git clone --depth 1 https://github.com/tensorflow/models.git -b r2.3.0"
   ]
  },
  {
   "cell_type": "code",
   "execution_count": 6,
   "metadata": {
    "ExecuteTime": {
     "end_time": "2021-05-11T05:51:59.805541Z",
     "start_time": "2021-05-11T05:51:39.645511Z"
    },
    "code_folding": []
   },
   "outputs": [
    {
     "name": "stdout",
     "output_type": "stream",
     "text": [
      "Collecting pycocotools\n",
      "  Downloading pycocotools-2.0.2.tar.gz (23 kB)\n",
      "Requirement already satisfied: setuptools>=18.0 in c:\\users\\user\\anaconda3\\envs\\tensorflow\\lib\\site-packages (from pycocotools) (49.2.1.post20200807)\n",
      "Requirement already satisfied: cython>=0.27.3 in c:\\users\\user\\anaconda3\\envs\\tensorflow\\lib\\site-packages (from pycocotools) (0.29.14)\n",
      "Requirement already satisfied: matplotlib>=2.1.0 in c:\\users\\user\\anaconda3\\envs\\tensorflow\\lib\\site-packages (from pycocotools) (3.2.1)\n",
      "Requirement already satisfied: kiwisolver>=1.0.1 in c:\\users\\user\\anaconda3\\envs\\tensorflow\\lib\\site-packages (from matplotlib>=2.1.0->pycocotools) (1.2.0)\n",
      "Requirement already satisfied: pyparsing!=2.0.4,!=2.1.2,!=2.1.6,>=2.0.1 in c:\\users\\user\\anaconda3\\envs\\tensorflow\\lib\\site-packages (from matplotlib>=2.1.0->pycocotools) (2.4.7)\n",
      "Requirement already satisfied: python-dateutil>=2.1 in c:\\users\\user\\anaconda3\\envs\\tensorflow\\lib\\site-packages (from matplotlib>=2.1.0->pycocotools) (2.8.1)\n",
      "Requirement already satisfied: numpy>=1.11 in c:\\users\\user\\anaconda3\\envs\\tensorflow\\lib\\site-packages (from matplotlib>=2.1.0->pycocotools) (1.18.5)\n",
      "Requirement already satisfied: cycler>=0.10 in c:\\users\\user\\anaconda3\\envs\\tensorflow\\lib\\site-packages (from matplotlib>=2.1.0->pycocotools) (0.10.0)\n",
      "Requirement already satisfied: six in c:\\users\\user\\anaconda3\\envs\\tensorflow\\lib\\site-packages (from cycler>=0.10->matplotlib>=2.1.0->pycocotools) (1.15.0)\n",
      "Building wheels for collected packages: pycocotools\n",
      "  Building wheel for pycocotools (setup.py): started\n",
      "  Building wheel for pycocotools (setup.py): finished with status 'error'\n",
      "  Running setup.py clean for pycocotools\n",
      "Failed to build pycocotools\n",
      "Installing collected packages: pycocotools\n",
      "    Running setup.py install for pycocotools: started\n",
      "    Running setup.py install for pycocotools: finished with status 'error'\n"
     ]
    },
    {
     "name": "stderr",
     "output_type": "stream",
     "text": [
      "  ERROR: Command errored out with exit status 1:\n",
      "   command: 'c:\\users\\user\\anaconda3\\envs\\tensorflow\\python.exe' -u -c 'import sys, setuptools, tokenize; sys.argv[0] = '\"'\"'C:\\\\Users\\\\User\\\\AppData\\\\Local\\\\Temp\\\\pip-install-firu4q1c\\\\pycocotools_62bdec82f64f4a07b71a4d93ee0d6727\\\\setup.py'\"'\"'; __file__='\"'\"'C:\\\\Users\\\\User\\\\AppData\\\\Local\\\\Temp\\\\pip-install-firu4q1c\\\\pycocotools_62bdec82f64f4a07b71a4d93ee0d6727\\\\setup.py'\"'\"';f=getattr(tokenize, '\"'\"'open'\"'\"', open)(__file__);code=f.read().replace('\"'\"'\\r\\n'\"'\"', '\"'\"'\\n'\"'\"');f.close();exec(compile(code, __file__, '\"'\"'exec'\"'\"'))' bdist_wheel -d 'C:\\Users\\User\\AppData\\Local\\Temp\\pip-wheel-fjnvf3jc'\n",
      "       cwd: C:\\Users\\User\\AppData\\Local\\Temp\\pip-install-firu4q1c\\pycocotools_62bdec82f64f4a07b71a4d93ee0d6727\\\n",
      "  Complete output (16 lines):\n",
      "  running bdist_wheel\n",
      "  running build\n",
      "  running build_py\n",
      "  creating build\n",
      "  creating build\\lib.win-amd64-3.6\n",
      "  creating build\\lib.win-amd64-3.6\\pycocotools\n",
      "  copying pycocotools\\coco.py -> build\\lib.win-amd64-3.6\\pycocotools\n",
      "  copying pycocotools\\cocoeval.py -> build\\lib.win-amd64-3.6\\pycocotools\n",
      "  copying pycocotools\\mask.py -> build\\lib.win-amd64-3.6\\pycocotools\n",
      "  copying pycocotools\\__init__.py -> build\\lib.win-amd64-3.6\\pycocotools\n",
      "  running build_ext\n",
      "  cythoning pycocotools/_mask.pyx to pycocotools\\_mask.c\n",
      "  c:\\users\\user\\anaconda3\\envs\\tensorflow\\lib\\site-packages\\Cython\\Compiler\\Main.py:369: FutureWarning: Cython directive 'language_level' not set, using 2 for now (Py2). This will change in a later release! File: C:\\Users\\User\\AppData\\Local\\Temp\\pip-install-firu4q1c\\pycocotools_62bdec82f64f4a07b71a4d93ee0d6727\\pycocotools\\_mask.pyx\n",
      "    tree = Parsing.p_module(s, pxd, full_module_name)\n",
      "  building 'pycocotools._mask' extension\n",
      "  error: Microsoft Visual C++ 14.0 is required. Get it with \"Build Tools for Visual Studio\": https://visualstudio.microsoft.com/downloads/\n",
      "  ----------------------------------------\n",
      "  ERROR: Failed building wheel for pycocotools\n",
      "    ERROR: Command errored out with exit status 1:\n",
      "     command: 'c:\\users\\user\\anaconda3\\envs\\tensorflow\\python.exe' -u -c 'import sys, setuptools, tokenize; sys.argv[0] = '\"'\"'C:\\\\Users\\\\User\\\\AppData\\\\Local\\\\Temp\\\\pip-install-firu4q1c\\\\pycocotools_62bdec82f64f4a07b71a4d93ee0d6727\\\\setup.py'\"'\"'; __file__='\"'\"'C:\\\\Users\\\\User\\\\AppData\\\\Local\\\\Temp\\\\pip-install-firu4q1c\\\\pycocotools_62bdec82f64f4a07b71a4d93ee0d6727\\\\setup.py'\"'\"';f=getattr(tokenize, '\"'\"'open'\"'\"', open)(__file__);code=f.read().replace('\"'\"'\\r\\n'\"'\"', '\"'\"'\\n'\"'\"');f.close();exec(compile(code, __file__, '\"'\"'exec'\"'\"'))' install --record 'C:\\Users\\User\\AppData\\Local\\Temp\\pip-record-vbbakzl2\\install-record.txt' --single-version-externally-managed --compile --install-headers 'c:\\users\\user\\anaconda3\\envs\\tensorflow\\Include\\pycocotools'\n",
      "         cwd: C:\\Users\\User\\AppData\\Local\\Temp\\pip-install-firu4q1c\\pycocotools_62bdec82f64f4a07b71a4d93ee0d6727\\\n",
      "    Complete output (14 lines):\n",
      "    running install\n",
      "    running build\n",
      "    running build_py\n",
      "    creating build\n",
      "    creating build\\lib.win-amd64-3.6\n",
      "    creating build\\lib.win-amd64-3.6\\pycocotools\n",
      "    copying pycocotools\\coco.py -> build\\lib.win-amd64-3.6\\pycocotools\n",
      "    copying pycocotools\\cocoeval.py -> build\\lib.win-amd64-3.6\\pycocotools\n",
      "    copying pycocotools\\mask.py -> build\\lib.win-amd64-3.6\\pycocotools\n",
      "    copying pycocotools\\__init__.py -> build\\lib.win-amd64-3.6\\pycocotools\n",
      "    running build_ext\n",
      "    skipping 'pycocotools\\_mask.c' Cython extension (up-to-date)\n",
      "    building 'pycocotools._mask' extension\n",
      "    error: Microsoft Visual C++ 14.0 is required. Get it with \"Build Tools for Visual Studio\": https://visualstudio.microsoft.com/downloads/\n",
      "    ----------------------------------------\n",
      "ERROR: Command errored out with exit status 1: 'c:\\users\\user\\anaconda3\\envs\\tensorflow\\python.exe' -u -c 'import sys, setuptools, tokenize; sys.argv[0] = '\"'\"'C:\\\\Users\\\\User\\\\AppData\\\\Local\\\\Temp\\\\pip-install-firu4q1c\\\\pycocotools_62bdec82f64f4a07b71a4d93ee0d6727\\\\setup.py'\"'\"'; __file__='\"'\"'C:\\\\Users\\\\User\\\\AppData\\\\Local\\\\Temp\\\\pip-install-firu4q1c\\\\pycocotools_62bdec82f64f4a07b71a4d93ee0d6727\\\\setup.py'\"'\"';f=getattr(tokenize, '\"'\"'open'\"'\"', open)(__file__);code=f.read().replace('\"'\"'\\r\\n'\"'\"', '\"'\"'\\n'\"'\"');f.close();exec(compile(code, __file__, '\"'\"'exec'\"'\"'))' install --record 'C:\\Users\\User\\AppData\\Local\\Temp\\pip-record-vbbakzl2\\install-record.txt' --single-version-externally-managed --compile --install-headers 'c:\\users\\user\\anaconda3\\envs\\tensorflow\\Include\\pycocotools' Check the logs for full command output.\n",
      "WARNING: You are using pip version 21.0.1; however, version 21.1.1 is available.\n",
      "You should consider upgrading via the 'c:\\users\\user\\anaconda3\\envs\\tensorflow\\python.exe -m pip install --upgrade pip' command.\n"
     ]
    },
    {
     "name": "stdout",
     "output_type": "stream",
     "text": [
      "running build\n",
      "running build_py\n",
      "creating build\n",
      "creating build\\lib\n",
      "creating build\\lib\\object_detection\n",
      "copying object_detection\\eval_util.py -> build\\lib\\object_detection\n",
      "copying object_detection\\eval_util_test.py -> build\\lib\\object_detection\n",
      "copying object_detection\\exporter.py -> build\\lib\\object_detection\n",
      "copying object_detection\\exporter_lib_tf2_test.py -> build\\lib\\object_detection\n",
      "copying object_detection\\exporter_lib_v2.py -> build\\lib\\object_detection\n",
      "copying object_detection\\exporter_main_v2.py -> build\\lib\\object_detection\n",
      "copying object_detection\\exporter_tf1_test.py -> build\\lib\\object_detection\n",
      "copying object_detection\\export_inference_graph.py -> build\\lib\\object_detection\n",
      "copying object_detection\\export_tflite_ssd_graph.py -> build\\lib\\object_detection\n",
      "copying object_detection\\export_tflite_ssd_graph_lib.py -> build\\lib\\object_detection\n",
      "copying object_detection\\export_tflite_ssd_graph_lib_tf1_test.py -> build\\lib\\object_detection\n",
      "copying object_detection\\inputs.py -> build\\lib\\object_detection\n",
      "copying object_detection\\inputs_test.py -> build\\lib\\object_detection\n",
      "copying object_detection\\model_hparams.py -> build\\lib\\object_detection\n",
      "copying object_detection\\model_lib.py -> build\\lib\\object_detection\n",
      "copying object_detection\\model_lib_tf1_test.py -> build\\lib\\object_detection\n",
      "copying object_detection\\model_lib_tf2_test.py -> build\\lib\\object_detection\n",
      "copying object_detection\\model_lib_v2.py -> build\\lib\\object_detection\n",
      "copying object_detection\\model_main.py -> build\\lib\\object_detection\n",
      "copying object_detection\\model_main_tf2.py -> build\\lib\\object_detection\n",
      "copying object_detection\\model_tpu_main.py -> build\\lib\\object_detection\n",
      "copying object_detection\\__init__.py -> build\\lib\\object_detection\n",
      "creating build\\lib\\object_detection\\anchor_generators\n",
      "copying object_detection\\anchor_generators\\flexible_grid_anchor_generator.py -> build\\lib\\object_detection\\anchor_generators\n",
      "copying object_detection\\anchor_generators\\flexible_grid_anchor_generator_test.py -> build\\lib\\object_detection\\anchor_generators\n",
      "copying object_detection\\anchor_generators\\grid_anchor_generator.py -> build\\lib\\object_detection\\anchor_generators\n",
      "copying object_detection\\anchor_generators\\grid_anchor_generator_test.py -> build\\lib\\object_detection\\anchor_generators\n",
      "copying object_detection\\anchor_generators\\multiple_grid_anchor_generator.py -> build\\lib\\object_detection\\anchor_generators\n",
      "copying object_detection\\anchor_generators\\multiple_grid_anchor_generator_test.py -> build\\lib\\object_detection\\anchor_generators\n",
      "copying object_detection\\anchor_generators\\multiscale_grid_anchor_generator.py -> build\\lib\\object_detection\\anchor_generators\n",
      "copying object_detection\\anchor_generators\\multiscale_grid_anchor_generator_test.py -> build\\lib\\object_detection\\anchor_generators\n",
      "copying object_detection\\anchor_generators\\__init__.py -> build\\lib\\object_detection\\anchor_generators\n",
      "creating build\\lib\\object_detection\\box_coders\n",
      "copying object_detection\\box_coders\\faster_rcnn_box_coder.py -> build\\lib\\object_detection\\box_coders\n",
      "copying object_detection\\box_coders\\faster_rcnn_box_coder_test.py -> build\\lib\\object_detection\\box_coders\n",
      "copying object_detection\\box_coders\\keypoint_box_coder.py -> build\\lib\\object_detection\\box_coders\n",
      "copying object_detection\\box_coders\\keypoint_box_coder_test.py -> build\\lib\\object_detection\\box_coders\n",
      "copying object_de"
     ]
    },
    {
     "data": {
      "text/html": [
       "<b>limit_output extension: Maximum message size of 10000 exceeded with 13972 characters</b>"
      ]
     },
     "metadata": {},
     "output_type": "display_data"
    }
   ],
   "source": [
    "# install object_detection library\n",
    "!pip install pycocotools\n",
    "\n",
    "!cd ./models/research && \\\n",
    "    protoc object_detection/protos/*.proto --python_out=. && \\\n",
    "    python setup.py build && \\\n",
    "    python setup.py bdist_wheel\n",
    "\n",
    "!python -m pip install --no-cache-dir ./models/research/dist/object_detection-0.1-py3-none-any.whl\n",
    "\n",
    "!cd ./models/research/slim && \\\n",
    "    python3 setup.py bdist_wheel\n",
    "\n",
    "!python -m pip install --no-cache-dir ./models/research/slim/dist/slim-0.1-py3-none-any.whl"
   ]
  },
  {
   "cell_type": "code",
   "execution_count": 7,
   "metadata": {
    "ExecuteTime": {
     "end_time": "2021-05-11T05:52:47.449343Z",
     "start_time": "2021-05-11T05:52:47.103382Z"
    }
   },
   "outputs": [
    {
     "ename": "ModuleNotFoundError",
     "evalue": "No module named 'contextlib2'",
     "output_type": "error",
     "traceback": [
      "\u001b[1;31m---------------------------------------------------------------------------\u001b[0m",
      "\u001b[1;31mModuleNotFoundError\u001b[0m                       Traceback (most recent call last)",
      "\u001b[1;32m<ipython-input-7-9fcdde787ebc>\u001b[0m in \u001b[0;36m<module>\u001b[1;34m\u001b[0m\n\u001b[1;32m----> 1\u001b[1;33m \u001b[1;32mfrom\u001b[0m \u001b[0mobject_detection\u001b[0m\u001b[1;33m.\u001b[0m\u001b[0mdataset_tools\u001b[0m\u001b[1;33m.\u001b[0m\u001b[0mcreate_coco_tf_record\u001b[0m \u001b[1;32mimport\u001b[0m \u001b[0mcreate_tf_example\u001b[0m\u001b[1;33m\u001b[0m\u001b[1;33m\u001b[0m\u001b[0m\n\u001b[0m\u001b[0;32m      2\u001b[0m \u001b[1;32mfrom\u001b[0m \u001b[0mobject_detection\u001b[0m\u001b[1;33m.\u001b[0m\u001b[0mutils\u001b[0m \u001b[1;32mimport\u001b[0m \u001b[0mdataset_util\u001b[0m\u001b[1;33m,\u001b[0m \u001b[0mlabel_map_util\u001b[0m\u001b[1;33m\u001b[0m\u001b[1;33m\u001b[0m\u001b[0m\n\u001b[0;32m      3\u001b[0m \u001b[1;32mfrom\u001b[0m \u001b[0mobject_detection\u001b[0m\u001b[1;33m.\u001b[0m\u001b[0mutils\u001b[0m \u001b[1;32mimport\u001b[0m \u001b[0mvisualization_utils\u001b[0m \u001b[1;32mas\u001b[0m \u001b[0mvis_util\u001b[0m\u001b[1;33m\u001b[0m\u001b[1;33m\u001b[0m\u001b[0m\n\u001b[0;32m      4\u001b[0m \u001b[1;32mfrom\u001b[0m \u001b[0mobject_detection\u001b[0m\u001b[1;33m.\u001b[0m\u001b[0mprotos\u001b[0m \u001b[1;32mimport\u001b[0m \u001b[0mstring_int_label_map_pb2\u001b[0m\u001b[1;33m\u001b[0m\u001b[1;33m\u001b[0m\u001b[0m\n\u001b[0;32m      5\u001b[0m \u001b[1;32mfrom\u001b[0m \u001b[0mobject_detection\u001b[0m\u001b[1;33m.\u001b[0m\u001b[0mprotos\u001b[0m \u001b[1;32mimport\u001b[0m \u001b[0mpipeline_pb2\u001b[0m\u001b[1;33m\u001b[0m\u001b[1;33m\u001b[0m\u001b[0m\n",
      "\u001b[1;32mc:\\users\\user\\anaconda3\\envs\\tensorflow\\lib\\site-packages\\object_detection\\dataset_tools\\create_coco_tf_record.py\u001b[0m in \u001b[0;36m<module>\u001b[1;34m\u001b[0m\n\u001b[0;32m     36\u001b[0m \u001b[1;32mimport\u001b[0m \u001b[0mlogging\u001b[0m\u001b[1;33m\u001b[0m\u001b[1;33m\u001b[0m\u001b[0m\n\u001b[0;32m     37\u001b[0m \u001b[1;32mimport\u001b[0m \u001b[0mos\u001b[0m\u001b[1;33m\u001b[0m\u001b[1;33m\u001b[0m\u001b[0m\n\u001b[1;32m---> 38\u001b[1;33m \u001b[1;32mimport\u001b[0m \u001b[0mcontextlib2\u001b[0m\u001b[1;33m\u001b[0m\u001b[1;33m\u001b[0m\u001b[0m\n\u001b[0m\u001b[0;32m     39\u001b[0m \u001b[1;32mimport\u001b[0m \u001b[0mnumpy\u001b[0m \u001b[1;32mas\u001b[0m \u001b[0mnp\u001b[0m\u001b[1;33m\u001b[0m\u001b[1;33m\u001b[0m\u001b[0m\n\u001b[0;32m     40\u001b[0m \u001b[1;32mimport\u001b[0m \u001b[0mPIL\u001b[0m\u001b[1;33m.\u001b[0m\u001b[0mImage\u001b[0m\u001b[1;33m\u001b[0m\u001b[1;33m\u001b[0m\u001b[0m\n",
      "\u001b[1;31mModuleNotFoundError\u001b[0m: No module named 'contextlib2'"
     ]
    }
   ],
   "source": [
    "from object_detection.dataset_tools.create_coco_tf_record import create_tf_example\n",
    "from object_detection.utils import dataset_util, label_map_util\n",
    "from object_detection.utils import visualization_utils as vis_util\n",
    "from object_detection.protos import string_int_label_map_pb2\n",
    "from object_detection.protos import pipeline_pb2"
   ]
  },
  {
   "cell_type": "code",
   "execution_count": null,
   "metadata": {},
   "outputs": [],
   "source": []
  }
 ],
 "metadata": {
  "hide_input": false,
  "kernelspec": {
   "display_name": "Python 3",
   "language": "python",
   "name": "python3"
  },
  "language_info": {
   "codemirror_mode": {
    "name": "ipython",
    "version": 3
   },
   "file_extension": ".py",
   "mimetype": "text/x-python",
   "name": "python",
   "nbconvert_exporter": "python",
   "pygments_lexer": "ipython3",
   "version": "3.6.10"
  },
  "toc": {
   "base_numbering": 1,
   "nav_menu": {},
   "number_sections": true,
   "sideBar": true,
   "skip_h1_title": false,
   "title_cell": "Table of Contents",
   "title_sidebar": "Contents",
   "toc_cell": false,
   "toc_position": {},
   "toc_section_display": true,
   "toc_window_display": false
  },
  "varInspector": {
   "cols": {
    "lenName": 16,
    "lenType": 16,
    "lenVar": 40
   },
   "kernels_config": {
    "python": {
     "delete_cmd_postfix": "",
     "delete_cmd_prefix": "del ",
     "library": "var_list.py",
     "varRefreshCmd": "print(var_dic_list())"
    },
    "r": {
     "delete_cmd_postfix": ") ",
     "delete_cmd_prefix": "rm(",
     "library": "var_list.r",
     "varRefreshCmd": "cat(var_dic_list()) "
    }
   },
   "types_to_exclude": [
    "module",
    "function",
    "builtin_function_or_method",
    "instance",
    "_Feature"
   ],
   "window_display": false
  }
 },
 "nbformat": 4,
 "nbformat_minor": 4
}
