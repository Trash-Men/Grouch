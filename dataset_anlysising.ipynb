{
 "cells": [
  {
   "cell_type": "code",
   "execution_count": 1,
   "metadata": {
    "ExecuteTime": {
     "end_time": "2021-04-12T02:07:33.434639Z",
     "start_time": "2021-04-12T02:07:31.134048Z"
    }
   },
   "outputs": [],
   "source": [
    "# Import libraries\n",
    "import json\n",
    "import numpy as np\n",
    "import pandas as pd\n",
    "import matplotlib.pyplot as plt\n",
    "import seaborn as sns; sns.set()"
   ]
  },
  {
   "cell_type": "code",
   "execution_count": 2,
   "metadata": {
    "ExecuteTime": {
     "end_time": "2021-04-12T02:07:36.673246Z",
     "start_time": "2021-04-12T02:07:36.657724Z"
    }
   },
   "outputs": [],
   "source": [
    "# TACO Dataset Path\n",
    "# C 드라이브 용량문제로 데이터셋을 현재 프로젝트 디렉토리가 아닌,\n",
    "# 외장 SSD 파일에 저장하여 불러오는 방식을 채택\n",
    "# 차후적으로 파일 경로를 상대 경로로 리팩토링해야 함\n",
    "dataset_path = \"E:/TACO/data\"\n",
    "anns_file_path = dataset_path + \"/annotations.json\""
   ]
  },
  {
   "cell_type": "code",
   "execution_count": null,
   "metadata": {},
   "outputs": [],
   "source": [
    "# Read annotations\n",
    "with open(anns_file_path, \"r\") as f:\n",
    "    dataset = json.loads(f.read())\n",
    "\n",
    "categories = dataset[\"categories\"]\n",
    "annotations = dataset[\"annotations\"]\n",
    "images = dataset[\"images\"]\n",
    "cnt_cats = len(categories)\n",
    "cnt_anns = len(annotations)\n",
    "cnt_imgs = len(images)"
   ]
  }
 ],
 "metadata": {
  "hide_input": false,
  "kernelspec": {
   "display_name": "Python 3",
   "language": "python",
   "name": "python3"
  },
  "language_info": {
   "codemirror_mode": {
    "name": "ipython",
    "version": 3
   },
   "file_extension": ".py",
   "mimetype": "text/x-python",
   "name": "python",
   "nbconvert_exporter": "python",
   "pygments_lexer": "ipython3",
   "version": "3.6.10"
  },
  "toc": {
   "base_numbering": 1,
   "nav_menu": {},
   "number_sections": true,
   "sideBar": true,
   "skip_h1_title": false,
   "title_cell": "Table of Contents",
   "title_sidebar": "Contents",
   "toc_cell": false,
   "toc_position": {},
   "toc_section_display": true,
   "toc_window_display": false
  },
  "varInspector": {
   "cols": {
    "lenName": 16,
    "lenType": 16,
    "lenVar": 40
   },
   "kernels_config": {
    "python": {
     "delete_cmd_postfix": "",
     "delete_cmd_prefix": "del ",
     "library": "var_list.py",
     "varRefreshCmd": "print(var_dic_list())"
    },
    "r": {
     "delete_cmd_postfix": ") ",
     "delete_cmd_prefix": "rm(",
     "library": "var_list.r",
     "varRefreshCmd": "cat(var_dic_list()) "
    }
   },
   "types_to_exclude": [
    "module",
    "function",
    "builtin_function_or_method",
    "instance",
    "_Feature"
   ],
   "window_display": false
  }
 },
 "nbformat": 4,
 "nbformat_minor": 4
}
